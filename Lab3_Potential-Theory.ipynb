{
 "cells": [
  {
   "cell_type": "markdown",
   "metadata": {},
   "source": [
    "## Εισαγωγή\n",
    "\n",
    "Σε αυτό το εργαστήριο θα γνωρίσουμε τη βιβλιοθήκη [matplotlib](http://matplotlib.org/), τη βασική βιβλιοθήκη που θα χρησιμοποιούμε για να αναπαριστάμε γραφικά αποτελέσματα των προγραμμάτων μας σε Python. Στις παρακάτω ασκήσεις θα δείτε τις πιο βασικές λειτουργίες.\n",
    "\n",
    "Για μια πληρέστερη εισαγωγή στην `matplotlib` μπορείτε να:\n",
    "\n",
    "1. Παρακολουθείσετε το δωρεάν web-course [Intermediate Python](https://www.datacamp.com/courses/intermediate-python-for-data-science) από DataCamp\n",
    "2. Να δείτε το [examples gallery](http://matplotlib.org/gallery.html) από το επίσημο site και να δείτε τον κώδικα από το παράδειγμα που θέλετε να αναπαράγετε.\n",
    "\n",
    "## Άσκηση 55\n",
    "\n",
    "Στο παρόν εργατήριο θα πλοτάρουμε την συνάρτηση $f(x) = 32x^3$ στο διάστημα $(0, 6]$ σε γραμμική και λογαριθμική κλίμακα.\n",
    "\n",
    "Αρχικά φορτώνουμε τις βιβλιοθήκες που θα χρησιμοποιήσουμε"
   ]
  },
  {
   "cell_type": "code",
   "execution_count": null,
   "metadata": {},
   "outputs": [],
   "source": [
    "import numpy as np  # numerical computations library. We will call it np in our code\n",
    "import matplotlib.pyplot as plt  # library for plotting. We will call it plt in our code\n",
    "\n",
    "# to plot the results in the notebook:\n",
    "%matplotlib inline"
   ]
  },
  {
   "cell_type": "markdown",
   "metadata": {},
   "source": [
    "Για να κάνουμε τη γραφική παράσταση της συνάρτησης πρέπει πρώτα να υπολογίσουμε την τιμή της σε διάφορα σημεία του διαστήματος"
   ]
  },
  {
   "cell_type": "code",
   "execution_count": null,
   "metadata": {},
   "outputs": [],
   "source": [
    "# Create a list of real numbers from start to end by step\n",
    "start, end, step = 0.01, 6.0, 0.01\n",
    "x = np.arange(start, end, step)  # x = [0.01, 0.02, ..., 5.99, 6.00]\n",
    "# Compute f(x) = 32 * x^3 for every element of x\n",
    "y = 32 * x**3"
   ]
  },
  {
   "cell_type": "markdown",
   "metadata": {},
   "source": [
    "και εν συνεχεία να ενώσουμε αυτά τα σημεία με ευθείες γραμμές"
   ]
  },
  {
   "cell_type": "code",
   "execution_count": null,
   "metadata": {},
   "outputs": [],
   "source": [
    "# Let's plot (x,y)\n",
    "plt.figure()\n",
    "plt.plot(x, y)\n",
    "# Specify some extra attributes\n",
    "plt.xlabel('x')\n",
    "plt.ylabel('32*x^3')\n",
    "plt.title('This is my first python plot')\n",
    "plt.show()"
   ]
  },
  {
   "cell_type": "markdown",
   "metadata": {},
   "source": [
    "Η συνάρτηση `plt.plot` στην πιο απλή μορφή της παίρνει 2 ορίσματα `x,y` που αντιστοιχούν στις συντεταγμένες των σημείων και τα ενώνει με ευθείες γραμμές.\n",
    "\n",
    "Στη συνέχεια θα κάνουμε τη γραφική παράσταση του λογαρίθμου των 2 διανυσμάτων."
   ]
  },
  {
   "cell_type": "code",
   "execution_count": null,
   "metadata": {},
   "outputs": [],
   "source": [
    "# Let's now create a handmade log-log plot\n",
    "newx = np.log2(x)\n",
    "newy = np.log2(y)\n",
    "\n",
    "plt.figure(2)\n",
    "plt.plot(newx, newy)\n",
    "plt.xlabel('logx')\n",
    "plt.ylabel('log(32*x^3)')\n",
    "plt.title('This is a simple log log plot')\n",
    "plt.show()"
   ]
  },
  {
   "cell_type": "markdown",
   "metadata": {},
   "source": [
    "Ενας καλός τρόπος για να συγκρίνετε 2 γραφήματα είναι να τα απεικονίσετε στο ίδιο κελί.\n",
    "Αυτό γίνεται μέσω της εντολής `subplot` στην οποία πρέπει να προσδιορίσετε πόσους άξονες θέλετε.\n",
    "Επίσης παρατηρήστε ότι στο επόμενο κελί κώδικα, χρησιμοποιούμε την συνάρτηση `plt.loglog` για να ορίσουμε\n",
    "τον διπλό λογαριθμικό άξονα."
   ]
  },
  {
   "cell_type": "code",
   "execution_count": null,
   "metadata": {},
   "outputs": [],
   "source": [
    "plt.figure(figsize=(12, 7))  # define figure size\n",
    "\n",
    "# Right Axes\n",
    "plt.subplot(1, 2, 1)  # setup subplots 1-row, 2-cols, select the 1st\n",
    "plt.plot(x, y)\n",
    "plt.xlabel('x')\n",
    "plt.ylabel('32*x^3')\n",
    "plt.title('Linear Axis')\n",
    "plt.grid(True)  # add grid-lines\n",
    "\n",
    "# Left Axes\n",
    "plt.subplot(1, 2, 2) # select the 2nd subplot\n",
    "plt.loglog(x, y, basex=2, basey=2)\n",
    "plt.xlabel('x')\n",
    "plt.ylabel('32*x^3')\n",
    "plt.title('Log-log Axis')\n",
    "plt.grid(True)\n",
    "\n",
    "plt.subplots_adjust(wspace = 0.5)  # specify the width space\n",
    "plt.show()"
   ]
  },
  {
   "cell_type": "markdown",
   "metadata": {},
   "source": [
    "### Ερωτήσεις κατανόησης\n",
    "\n",
    "1. Γιατί σε λογαριθμική κλίμακα βλέπουμε μια ευθεία;\n",
    "2. Εκτιμήστε γραφικά την κλίση της ευθείας και το σημείο που τέμνει τον άξονα $logx=0$.\n",
    "3. Δοκιμάστε να πλοτάρετε στο ίδιο γράφημα τις συναρτήσεις $y = 8x^3$ και $y = 8x^2$. Πως αλλάζει η κλίση για τις 2 αυτές συναρτήσεις;"
   ]
  },
  {
   "cell_type": "markdown",
   "metadata": {},
   "source": [
    "## Παραδοτέο 1. \n",
    "\n",
    "Τώρα που μάθατε να κάνετε γραφικές παραστάσεις, μπορείτε να καταλάβετε καλύτερα πώς εξαρτάται η πιθανότητα νίκης  \n",
    "του παίκτη που σερβίρει στο τένις $F(p)$ από την πιθανότητα $p$ που έχει να κερδίσει έναν πόντο. Αλλάξτε τον κώδικα που φτιάξατε για το προηγούμενο εργαστήριο ώστε να εκτιμά την πιθανότητα νίκης για μια σειρά από $p=0.02,0.04,\\ldots,0.98$ και κάντε τη γραφική παράσταση αυτής της συνάρτησης. Φροντίστε ώστε το πλήθος των δειγμάτων που θα πάρετε για κάθε τιμή του $p$ να είναι αρκετά μεγάλο ώστε η γραφική παράσταση της συνάρτησης να φαίνεται ομαλή. \n",
    "\n",
    "Σε ένα καινούργιο jupyter notebook βάλτε ένα κελί με τον κώδικά σας και τρέξτε το ώστε να φανεί η γραφική παράσταση. Στη συνέχεια, σε ένα κελί κειμένου σχολιάστε τη μορφή της γραφικής παράστασης. "
   ]
  },
  {
   "cell_type": "markdown",
   "metadata": {},
   "source": [
    "### Γραμμική παρεμβολή\n",
    "\n",
    "Για να υπολογίσετε την κλίση μιας ευθείας αριθμητικά μπορείτε να χρησιμοποιήσετε την συνάρτηση\n",
    "`np.polyfit`. Αυτή παίρνει σαν ορίσματα 2 διανύσματα `x,y` και έναν βαθμό `deg` και υπολογίζει το πολυώνυμο βαθμού `deg` που παρεμβάλλει καλύτερα (με την έννοια των ελαχίστων τετραγώνων) τα δεδομένα. \n",
    "\n",
    "Αν εκτελέσετε το παρακάτω κελί θα δείτε το documentation της συνάρτησης."
   ]
  },
  {
   "cell_type": "code",
   "execution_count": null,
   "metadata": {
    "collapsed": true
   },
   "outputs": [],
   "source": [
    "np.polyfit?"
   ]
  },
  {
   "cell_type": "markdown",
   "metadata": {},
   "source": [
    "Προσπαθήστε να υπολογίσετε αριθμητικά για την αρχική συνάρτηση $y = 32x^3$ την κλίση της ευθείας στη λογαριθμική κλίμακα."
   ]
  },
  {
   "cell_type": "code",
   "execution_count": null,
   "metadata": {
    "collapsed": true
   },
   "outputs": [],
   "source": [
    "# your code goes here"
   ]
  },
  {
   "cell_type": "markdown",
   "metadata": {},
   "source": [
    "## Άσκηση 87\n",
    "\n",
    "Σε αυτή την άσκηση θα μελετήσουμε την διακύμανση του χρόνου απορρόφησης μιας αλυσίδας Markov.\n",
    "Στο παρακάτω κελί δημιουργούμε μια αλυσίδα Markov που ζει στο χώρο καταστάσεων $\\mathbb{X} = \\{0, 1, 2, 3, 4\\}$ με πίνακα πιθανοτήτων μετάβασης\n",
    "\n",
    "$$\n",
    "P = \n",
    "\\begin{pmatrix}\n",
    "2/5   & 1/2 & 1/10 &  0  & 0 \\\\\n",
    "1/3 &  0  &  0  & 2/3 & 0 \\\\\n",
    "0   &  0  &  1  &  0  & 0 \\\\\n",
    "1/2 &  1/8  &  0  & 1/4 & 1/8 \\\\\n",
    "0   &  0  &  0  &  0  & 1 \n",
    "\\end{pmatrix}\n",
    "$$\n",
    "\n",
    "και αρχική κατανομή: \n",
    "\n",
    "$$ \\pi_0 = (1, 0, 0, 0, 0 ) $$"
   ]
  },
  {
   "cell_type": "code",
   "execution_count": null,
   "metadata": {
    "collapsed": true
   },
   "outputs": [],
   "source": [
    "from simple_markov_chain_lib import markov_chain  # import markov chain simulator\n",
    "\n",
    "# Transition Table\n",
    "markov_table = {\n",
    "    0: {0: .4, 1: .5, 2: .1},\n",
    "    1: {0: 1/3, 3: 2/3},\n",
    "    2: {2: 1.},\n",
    "    3: {0: .5, 1: .125, 3: .25, 4: .125},\n",
    "    4: {4: 1.}\n",
    "}\n",
    "\n",
    "# Initial Distribution\n",
    "init_dist = {0: 1.}  # we start from state 0 with probability 1\n",
    "\n",
    "mc = markov_chain(markov_table, init_dist)"
   ]
  },
  {
   "cell_type": "markdown",
   "metadata": {},
   "source": [
    "Προφανώς οι καταστάσεις `2` και `4` είναι \"απορροφητικές\". \n",
    "Μπορούμε να χρησιμοποιήσουμε την αλύσίδα `mc` για να εκτιμήσουμε τον χρόνο απορρόφησης της αλυσίδας.\n",
    "\n",
    "Για να το κάνουμε αυτό θα τρέξουμε την αλυσίδα $Ν$ φορές. Η εκτιμήτρια Monte Carlo $E_N$ του χρόνου απορρόφησης είναι ο μέσος όρος των χρόνων απορρόφησης σε αυτά τα $N$ δείγματα."
   ]
  },
  {
   "cell_type": "code",
   "execution_count": null,
   "metadata": {},
   "outputs": [],
   "source": [
    "sample_size = 2 ** 5  # Ν\n",
    "running_total = 0\n",
    "\n",
    "for i in range(sample_size):\n",
    "    mc.start()\n",
    "    while mc.running_state != 2 and mc.running_state != 4:\n",
    "        mc.move()\n",
    "    running_total += mc.steps  # steps it took to be absorbed\n",
    "\n",
    "mc_estimate = running_total / sample_size\n",
    "print(\"The estimated absorption time is %.2f steps\" % mc_estimate)"
   ]
  },
  {
   "cell_type": "markdown",
   "metadata": {},
   "source": [
    "Θυμηθείτε ότι η εκτιμήτρια $E_N$ είναι μια τυχαία μεταβλητή. Σκοπός αυτής της άσκησης είναι να βρούμε υπολογιστικά πώς επηρεάζεται η διασπορά της $E_N$ από το πλήθος των επαναλήψεων $N$. Το πώς υπολογίζουμε τη δειγματική διασπορά $Μ$ παρατηρήσεων το έχουμε δει στο προηγούμενο εργαστήριο. Περιμένουμε ότι όσο το $N$ μεγαλώνει η διασπορά της $E_N$ πέφτει, αλλά θέλουμε να καταλάβουμε αυτή τη σχέση ποσοτικά.\n",
    "\n",
    "Για να το κάνουμε αυτό πρέπει να επαναλάβουμε την παραπάνω διαδικασία $M = 30$ φορές ώστε να πάρουμε $M$ δείγματα της τυχαίας μεταβλητής $E_N$ από τα οποία θα εκτιμήσουμε τη διασπορά της. Στη συνέχεια θα επαναλάβουμε τη διαδικασία  για διαφορετικά $N$ και θα προσπαθήσουμε να κατανοήσουμε πώς αλλάζει η διασπορά της $E_N$ με το $N$. "
   ]
  },
  {
   "cell_type": "markdown",
   "metadata": {},
   "source": [
    "## Παραδοτέο 2\n",
    "\n",
    "Υπολογίστε την διασπορά της εκτιμήτριας $E_N$ για $N$ (`sample_size`) $2^5, \\dots, 2^{12}$ και φτιάξτε το γράφημα της συνάρτησης $Var(E_N)$ σε κανονική και σε λογαριθμική κλίμακα. Γράψτε τον κώδικά σας στο Jupyter notebook που ανοίξατε για το Παραδοτέο 1 και τρέξτε τον κώδικα ώστε να φαίνονται οι γραφικές παραστάσεις. Αν εμφανίζεται κάπου μια ευθεία, εκτιμήστε την κλίση της. Στη συνέχεια, σε ένα κελί κειμένου εξηγήστε γιατί θα περιμέναμε αυτό το αποτέλεσμα από τη θεωρία."
   ]
  },
  {
   "cell_type": "code",
   "execution_count": null,
   "metadata": {
    "collapsed": true
   },
   "outputs": [],
   "source": []
  }
 ],
 "metadata": {
  "kernelspec": {
   "display_name": "Python 3",
   "language": "python",
   "name": "python3"
  },
  "language_info": {
   "codemirror_mode": {
    "name": "ipython",
    "version": 3
   },
   "file_extension": ".py",
   "mimetype": "text/x-python",
   "name": "python",
   "nbconvert_exporter": "python",
   "pygments_lexer": "ipython3",
   "version": "3.6.2"
  }
 },
 "nbformat": 4,
 "nbformat_minor": 2
}
